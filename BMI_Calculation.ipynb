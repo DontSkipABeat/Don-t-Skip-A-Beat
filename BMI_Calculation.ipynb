{
 "cells": [
  {
   "cell_type": "code",
   "execution_count": 1,
   "id": "50d086a1-a674-49f6-a77d-32abb7308cff",
   "metadata": {},
   "outputs": [
    {
     "name": "stdout",
     "output_type": "stream",
     "text": [
      "Requirement already satisfied: jupyterlab in /opt/conda/lib/python3.7/site-packages (3.2.1)\n",
      "Requirement already satisfied: ipython in /opt/conda/lib/python3.7/site-packages (from jupyterlab) (7.28.0)\n",
      "Requirement already satisfied: packaging in /opt/conda/lib/python3.7/site-packages (from jupyterlab) (21.0)\n",
      "Requirement already satisfied: jupyter-core in /opt/conda/lib/python3.7/site-packages (from jupyterlab) (4.8.1)\n",
      "Requirement already satisfied: jinja2>=2.1 in /opt/conda/lib/python3.7/site-packages (from jupyterlab) (3.0.2)\n",
      "Requirement already satisfied: jupyterlab-server~=2.3 in /opt/conda/lib/python3.7/site-packages (from jupyterlab) (2.8.2)\n",
      "Requirement already satisfied: jupyter-server~=1.4 in /opt/conda/lib/python3.7/site-packages (from jupyterlab) (1.11.1)\n",
      "Requirement already satisfied: nbclassic~=0.2 in /opt/conda/lib/python3.7/site-packages (from jupyterlab) (0.3.2)\n",
      "Requirement already satisfied: tornado>=6.1.0 in /opt/conda/lib/python3.7/site-packages (from jupyterlab) (6.1)\n",
      "Requirement already satisfied: MarkupSafe>=2.0 in /opt/conda/lib/python3.7/site-packages (from jinja2>=2.1->jupyterlab) (2.0.1)\n",
      "Requirement already satisfied: prometheus-client in /opt/conda/lib/python3.7/site-packages (from jupyter-server~=1.4->jupyterlab) (0.11.0)\n",
      "Requirement already satisfied: websocket-client in /opt/conda/lib/python3.7/site-packages (from jupyter-server~=1.4->jupyterlab) (0.57.0)\n",
      "Requirement already satisfied: argon2-cffi in /opt/conda/lib/python3.7/site-packages (from jupyter-server~=1.4->jupyterlab) (21.1.0)\n",
      "Requirement already satisfied: traitlets>=4.2.1 in /opt/conda/lib/python3.7/site-packages (from jupyter-server~=1.4->jupyterlab) (5.1.0)\n",
      "Requirement already satisfied: Send2Trash in /opt/conda/lib/python3.7/site-packages (from jupyter-server~=1.4->jupyterlab) (1.8.0)\n",
      "Requirement already satisfied: requests-unixsocket in /opt/conda/lib/python3.7/site-packages (from jupyter-server~=1.4->jupyterlab) (0.2.0)\n",
      "Requirement already satisfied: nbconvert in /opt/conda/lib/python3.7/site-packages (from jupyter-server~=1.4->jupyterlab) (6.2.0)\n",
      "Requirement already satisfied: jupyter-client>=6.1.1 in /opt/conda/lib/python3.7/site-packages (from jupyter-server~=1.4->jupyterlab) (7.0.6)\n",
      "Requirement already satisfied: nbformat in /opt/conda/lib/python3.7/site-packages (from jupyter-server~=1.4->jupyterlab) (5.1.3)\n",
      "Requirement already satisfied: ipython-genutils in /opt/conda/lib/python3.7/site-packages (from jupyter-server~=1.4->jupyterlab) (0.2.0)\n",
      "Requirement already satisfied: anyio<4,>=3.1.0 in /opt/conda/lib/python3.7/site-packages (from jupyter-server~=1.4->jupyterlab) (3.3.4)\n",
      "Requirement already satisfied: terminado>=0.8.3 in /opt/conda/lib/python3.7/site-packages (from jupyter-server~=1.4->jupyterlab) (0.12.1)\n",
      "Requirement already satisfied: pyzmq>=17 in /opt/conda/lib/python3.7/site-packages (from jupyter-server~=1.4->jupyterlab) (22.3.0)\n",
      "Requirement already satisfied: entrypoints>=0.2.2 in /opt/conda/lib/python3.7/site-packages (from jupyterlab-server~=2.3->jupyterlab) (0.3)\n",
      "Requirement already satisfied: requests in /opt/conda/lib/python3.7/site-packages (from jupyterlab-server~=2.3->jupyterlab) (2.25.1)\n",
      "Requirement already satisfied: babel in /opt/conda/lib/python3.7/site-packages (from jupyterlab-server~=2.3->jupyterlab) (2.9.1)\n",
      "Requirement already satisfied: jsonschema>=3.0.1 in /opt/conda/lib/python3.7/site-packages (from jupyterlab-server~=2.3->jupyterlab) (4.1.2)\n",
      "Requirement already satisfied: json5 in /opt/conda/lib/python3.7/site-packages (from jupyterlab-server~=2.3->jupyterlab) (0.9.5)\n",
      "Requirement already satisfied: notebook<7 in /opt/conda/lib/python3.7/site-packages (from nbclassic~=0.2->jupyterlab) (6.4.5)\n",
      "Requirement already satisfied: jedi>=0.16 in /opt/conda/lib/python3.7/site-packages (from ipython->jupyterlab) (0.18.0)\n",
      "Requirement already satisfied: backcall in /opt/conda/lib/python3.7/site-packages (from ipython->jupyterlab) (0.2.0)\n",
      "Requirement already satisfied: pygments in /opt/conda/lib/python3.7/site-packages (from ipython->jupyterlab) (2.10.0)\n",
      "Requirement already satisfied: pickleshare in /opt/conda/lib/python3.7/site-packages (from ipython->jupyterlab) (0.7.5)\n",
      "Requirement already satisfied: decorator in /opt/conda/lib/python3.7/site-packages (from ipython->jupyterlab) (5.1.0)\n",
      "Requirement already satisfied: prompt-toolkit!=3.0.0,!=3.0.1,<3.1.0,>=2.0.0 in /opt/conda/lib/python3.7/site-packages (from ipython->jupyterlab) (3.0.20)\n",
      "Requirement already satisfied: pexpect>4.3 in /opt/conda/lib/python3.7/site-packages (from ipython->jupyterlab) (4.8.0)\n",
      "Requirement already satisfied: matplotlib-inline in /opt/conda/lib/python3.7/site-packages (from ipython->jupyterlab) (0.1.3)\n",
      "Requirement already satisfied: setuptools>=18.5 in /opt/conda/lib/python3.7/site-packages (from ipython->jupyterlab) (58.2.0)\n",
      "Requirement already satisfied: pyparsing>=2.0.2 in /opt/conda/lib/python3.7/site-packages (from packaging->jupyterlab) (2.4.7)\n",
      "Requirement already satisfied: idna>=2.8 in /opt/conda/lib/python3.7/site-packages (from anyio<4,>=3.1.0->jupyter-server~=1.4->jupyterlab) (2.10)\n",
      "Requirement already satisfied: sniffio>=1.1 in /opt/conda/lib/python3.7/site-packages (from anyio<4,>=3.1.0->jupyter-server~=1.4->jupyterlab) (1.2.0)\n",
      "Requirement already satisfied: typing-extensions in /opt/conda/lib/python3.7/site-packages (from anyio<4,>=3.1.0->jupyter-server~=1.4->jupyterlab) (3.10.0.2)\n",
      "Requirement already satisfied: parso<0.9.0,>=0.8.0 in /opt/conda/lib/python3.7/site-packages (from jedi>=0.16->ipython->jupyterlab) (0.8.2)\n",
      "Requirement already satisfied: pyrsistent!=0.17.0,!=0.17.1,!=0.17.2,>=0.14.0 in /opt/conda/lib/python3.7/site-packages (from jsonschema>=3.0.1->jupyterlab-server~=2.3->jupyterlab) (0.17.3)\n",
      "Requirement already satisfied: attrs>=17.4.0 in /opt/conda/lib/python3.7/site-packages (from jsonschema>=3.0.1->jupyterlab-server~=2.3->jupyterlab) (21.2.0)\n",
      "Requirement already satisfied: importlib-metadata in /opt/conda/lib/python3.7/site-packages (from jsonschema>=3.0.1->jupyterlab-server~=2.3->jupyterlab) (4.8.1)\n",
      "Requirement already satisfied: nest-asyncio>=1.5 in /opt/conda/lib/python3.7/site-packages (from jupyter-client>=6.1.1->jupyter-server~=1.4->jupyterlab) (1.5.1)\n",
      "Requirement already satisfied: python-dateutil>=2.1 in /opt/conda/lib/python3.7/site-packages (from jupyter-client>=6.1.1->jupyter-server~=1.4->jupyterlab) (2.8.2)\n",
      "Requirement already satisfied: ipykernel in /opt/conda/lib/python3.7/site-packages (from notebook<7->nbclassic~=0.2->jupyterlab) (6.4.2)\n",
      "Requirement already satisfied: ptyprocess>=0.5 in /opt/conda/lib/python3.7/site-packages (from pexpect>4.3->ipython->jupyterlab) (0.7.0)\n",
      "Requirement already satisfied: wcwidth in /opt/conda/lib/python3.7/site-packages (from prompt-toolkit!=3.0.0,!=3.0.1,<3.1.0,>=2.0.0->ipython->jupyterlab) (0.2.5)\n",
      "Requirement already satisfied: cffi>=1.0.0 in /opt/conda/lib/python3.7/site-packages (from argon2-cffi->jupyter-server~=1.4->jupyterlab) (1.14.6)\n",
      "Requirement already satisfied: pytz>=2015.7 in /opt/conda/lib/python3.7/site-packages (from babel->jupyterlab-server~=2.3->jupyterlab) (2021.3)\n",
      "Requirement already satisfied: testpath in /opt/conda/lib/python3.7/site-packages (from nbconvert->jupyter-server~=1.4->jupyterlab) (0.5.0)\n",
      "Requirement already satisfied: jupyterlab-pygments in /opt/conda/lib/python3.7/site-packages (from nbconvert->jupyter-server~=1.4->jupyterlab) (0.1.2)\n",
      "Requirement already satisfied: defusedxml in /opt/conda/lib/python3.7/site-packages (from nbconvert->jupyter-server~=1.4->jupyterlab) (0.7.1)\n",
      "Requirement already satisfied: nbclient<0.6.0,>=0.5.0 in /opt/conda/lib/python3.7/site-packages (from nbconvert->jupyter-server~=1.4->jupyterlab) (0.5.4)\n",
      "Requirement already satisfied: bleach in /opt/conda/lib/python3.7/site-packages (from nbconvert->jupyter-server~=1.4->jupyterlab) (4.1.0)\n",
      "Requirement already satisfied: pandocfilters>=1.4.1 in /opt/conda/lib/python3.7/site-packages (from nbconvert->jupyter-server~=1.4->jupyterlab) (1.5.0)\n",
      "Requirement already satisfied: mistune<2,>=0.8.1 in /opt/conda/lib/python3.7/site-packages (from nbconvert->jupyter-server~=1.4->jupyterlab) (0.8.4)\n",
      "Requirement already satisfied: urllib3<1.27,>=1.21.1 in /opt/conda/lib/python3.7/site-packages (from requests->jupyterlab-server~=2.3->jupyterlab) (1.26.7)\n",
      "Requirement already satisfied: certifi>=2017.4.17 in /opt/conda/lib/python3.7/site-packages (from requests->jupyterlab-server~=2.3->jupyterlab) (2021.10.8)\n",
      "Requirement already satisfied: chardet<5,>=3.0.2 in /opt/conda/lib/python3.7/site-packages (from requests->jupyterlab-server~=2.3->jupyterlab) (4.0.0)\n",
      "Requirement already satisfied: six in /opt/conda/lib/python3.7/site-packages (from websocket-client->jupyter-server~=1.4->jupyterlab) (1.16.0)\n",
      "Requirement already satisfied: pycparser in /opt/conda/lib/python3.7/site-packages (from cffi>=1.0.0->argon2-cffi->jupyter-server~=1.4->jupyterlab) (2.20)\n",
      "Requirement already satisfied: webencodings in /opt/conda/lib/python3.7/site-packages (from bleach->nbconvert->jupyter-server~=1.4->jupyterlab) (0.5.1)\n",
      "Requirement already satisfied: zipp>=0.5 in /opt/conda/lib/python3.7/site-packages (from importlib-metadata->jsonschema>=3.0.1->jupyterlab-server~=2.3->jupyterlab) (3.6.0)\n",
      "Requirement already satisfied: argcomplete>=1.12.3 in /opt/conda/lib/python3.7/site-packages (from ipykernel->notebook<7->nbclassic~=0.2->jupyterlab) (1.12.3)\n",
      "Requirement already satisfied: debugpy<2.0,>=1.0.0 in /opt/conda/lib/python3.7/site-packages (from ipykernel->notebook<7->nbclassic~=0.2->jupyterlab) (1.4.1)\n",
      "Note: you may need to restart the kernel to use updated packages.\n"
     ]
    }
   ],
   "source": [
    "pip install jupyterlab"
   ]
  },
  {
   "cell_type": "code",
   "execution_count": 2,
   "id": "b7dad9f3-3220-42b0-bd8f-e6e221bdd987",
   "metadata": {},
   "outputs": [
    {
     "name": "stdout",
     "output_type": "stream",
     "text": [
      "Requirement already satisfied: pandas in /opt/conda/lib/python3.7/site-packages (1.3.4)\n",
      "Requirement already satisfied: python-dateutil>=2.7.3 in /opt/conda/lib/python3.7/site-packages (from pandas) (2.8.2)\n",
      "Requirement already satisfied: pytz>=2017.3 in /opt/conda/lib/python3.7/site-packages (from pandas) (2021.3)\n",
      "Requirement already satisfied: numpy>=1.17.3 in /opt/conda/lib/python3.7/site-packages (from pandas) (1.19.5)\n",
      "Requirement already satisfied: six>=1.5 in /opt/conda/lib/python3.7/site-packages (from python-dateutil>=2.7.3->pandas) (1.16.0)\n",
      "Note: you may need to restart the kernel to use updated packages.\n"
     ]
    }
   ],
   "source": [
    "pip install pandas"
   ]
  },
  {
   "cell_type": "code",
   "execution_count": 3,
   "id": "ae29349a-704c-4554-93f5-3e60d08fb4a5",
   "metadata": {},
   "outputs": [
    {
     "name": "stdout",
     "output_type": "stream",
     "text": [
      "\n",
      "EnvironmentFileNotFound: '/home/jupyter/environment.yml' file not found\n",
      "\n",
      "\n",
      "Note: you may need to restart the kernel to use updated packages.\n"
     ]
    }
   ],
   "source": [
    "conda env create -f environment.yml"
   ]
  },
  {
   "cell_type": "code",
   "execution_count": 4,
   "id": "48a3ed0e-076b-4446-80a2-ab823b989df2",
   "metadata": {},
   "outputs": [
    {
     "name": "stdout",
     "output_type": "stream",
     "text": [
      "Requirement already satisfied: tabula-py in /opt/conda/lib/python3.7/site-packages (2.3.0)\n",
      "Requirement already satisfied: pandas>=0.25.3 in /opt/conda/lib/python3.7/site-packages (from tabula-py) (1.3.4)\n",
      "Requirement already satisfied: numpy in /opt/conda/lib/python3.7/site-packages (from tabula-py) (1.19.5)\n",
      "Requirement already satisfied: distro in /opt/conda/lib/python3.7/site-packages (from tabula-py) (1.6.0)\n",
      "Requirement already satisfied: python-dateutil>=2.7.3 in /opt/conda/lib/python3.7/site-packages (from pandas>=0.25.3->tabula-py) (2.8.2)\n",
      "Requirement already satisfied: pytz>=2017.3 in /opt/conda/lib/python3.7/site-packages (from pandas>=0.25.3->tabula-py) (2021.3)\n",
      "Requirement already satisfied: six>=1.5 in /opt/conda/lib/python3.7/site-packages (from python-dateutil>=2.7.3->pandas>=0.25.3->tabula-py) (1.16.0)\n"
     ]
    }
   ],
   "source": [
    "!pip install tabula-py"
   ]
  },
  {
   "cell_type": "code",
   "execution_count": 5,
   "id": "dad87795-f8b9-49d9-adee-3d89d3e690c9",
   "metadata": {},
   "outputs": [],
   "source": [
    "!pip install -q geopandas\n"
   ]
  },
  {
   "cell_type": "code",
   "execution_count": 29,
   "id": "cae7bd37-28b2-4109-b071-7bee90b36f79",
   "metadata": {},
   "outputs": [
    {
     "name": "stdout",
     "output_type": "stream",
     "text": [
      "/home/jupyter\n"
     ]
    }
   ],
   "source": [
    "# Import the `pandas` module so that we can use its functions and objects, especially dataframes.\n",
    "import pandas as pd\n",
    "import numpy as np\n",
    "import os\n",
    "\n",
    "# Import the `tabula` module to convert tables within PDF to dataframes or CSV files.\n",
    "import tabula\n",
    "\n",
    "# Import the `geopandas` module to work with geospatial data. \n",
    "import geopandas as gpd\n",
    "\n",
    "# Import the matplotlib` module to make plots and get a visual.\n",
    "import matplotlib.pyplot as plt\n",
    "# %matplotlib inline"
   ]
  },
  {
   "cell_type": "code",
   "execution_count": 155,
   "id": "41d2fd39-cb86-419c-ab89-fbb1b71e8491",
   "metadata": {},
   "outputs": [
    {
     "name": "stdout",
     "output_type": "stream",
     "text": [
      "                        Response  Sample_Size\n",
      "895  Underweight (BMI 12.0-18.4)           27\n",
      "896  Underweight (BMI 12.0-18.4)           21\n",
      "897  Underweight (BMI 12.0-18.4)           10\n",
      "898  Underweight (BMI 12.0-18.4)            6\n",
      "900  Underweight (BMI 12.0-18.4)           40\n",
      "902  Underweight (BMI 12.0-18.4)          133\n",
      "903  Underweight (BMI 12.0-18.4)            4\n",
      "904  Underweight (BMI 12.0-18.4)           86\n",
      "915  Underweight (BMI 12.0-18.4)          119\n",
      "917  Underweight (BMI 12.0-18.4)           11\n",
      "924  Underweight (BMI 12.0-18.4)           13\n",
      "928  Underweight (BMI 12.0-18.4)            2\n",
      "931  Underweight (BMI 12.0-18.4)           57\n",
      "938  Underweight (BMI 12.0-18.4)           31\n",
      "940  Underweight (BMI 12.0-18.4)           25\n",
      "942  Underweight (BMI 12.0-18.4)           13\n",
      "950  Underweight (BMI 12.0-18.4)            1\n",
      "959  Underweight (BMI 12.0-18.4)           30\n",
      "960  Underweight (BMI 12.0-18.4)           15\n",
      "961  Underweight (BMI 12.0-18.4)           39\n",
      "968  Underweight (BMI 12.0-18.4)           17\n",
      "972  Underweight (BMI 12.0-18.4)            1\n",
      "974  Underweight (BMI 12.0-18.4)            0\n",
      "978  Underweight (BMI 12.0-18.4)           13\n",
      "981  Underweight (BMI 12.0-18.4)           47\n",
      "989  Underweight (BMI 12.0-18.4)            0\n",
      "Response       Underweight (BMI 12.0-18.4)Underweight (BMI 12...\n",
      "Sample_Size                                                  761\n",
      "dtype: object\n",
      "                          Response  Sample_Size\n",
      "887  Normal Weight (BMI 18.5-24.9)           68\n",
      "891  Normal Weight (BMI 18.5-24.9)          151\n",
      "893  Normal Weight (BMI 18.5-24.9)         2325\n",
      "901  Normal Weight (BMI 18.5-24.9)          260\n",
      "905  Normal Weight (BMI 18.5-24.9)           44\n",
      "911  Normal Weight (BMI 18.5-24.9)          211\n",
      "913  Normal Weight (BMI 18.5-24.9)          254\n",
      "919  Normal Weight (BMI 18.5-24.9)          912\n",
      "922  Normal Weight (BMI 18.5-24.9)          129\n",
      "925  Normal Weight (BMI 18.5-24.9)          853\n",
      "930  Normal Weight (BMI 18.5-24.9)          271\n",
      "933  Normal Weight (BMI 18.5-24.9)         1931\n",
      "939  Normal Weight (BMI 18.5-24.9)            1\n",
      "941  Normal Weight (BMI 18.5-24.9)            8\n",
      "944  Normal Weight (BMI 18.5-24.9)          628\n",
      "948  Normal Weight (BMI 18.5-24.9)          711\n",
      "951  Normal Weight (BMI 18.5-24.9)          912\n",
      "953  Normal Weight (BMI 18.5-24.9)          357\n",
      "954  Normal Weight (BMI 18.5-24.9)          214\n",
      "967  Normal Weight (BMI 18.5-24.9)          903\n",
      "970  Normal Weight (BMI 18.5-24.9)          285\n",
      "971  Normal Weight (BMI 18.5-24.9)           35\n",
      "979  Normal Weight (BMI 18.5-24.9)           24\n",
      "983  Normal Weight (BMI 18.5-24.9)          280\n",
      "985  Normal Weight (BMI 18.5-24.9)         1413\n",
      "986  Normal Weight (BMI 18.5-24.9)          273\n",
      "Response       Normal Weight (BMI 18.5-24.9)Normal Weight (BM...\n",
      "Sample_Size                                                13453\n",
      "dtype: object\n",
      "                       Response  Sample_Size\n",
      "892  Overweight (BMI 25.0-29.9)          234\n",
      "894  Overweight (BMI 25.0-29.9)          376\n",
      "899  Overweight (BMI 25.0-29.9)          170\n",
      "906  Overweight (BMI 25.0-29.9)          195\n",
      "907  Overweight (BMI 25.0-29.9)         1197\n",
      "910  Overweight (BMI 25.0-29.9)           38\n",
      "914  Overweight (BMI 25.0-29.9)          300\n",
      "916  Overweight (BMI 25.0-29.9)           34\n",
      "923  Overweight (BMI 25.0-29.9)          255\n",
      "929  Overweight (BMI 25.0-29.9)         1383\n",
      "932  Overweight (BMI 25.0-29.9)          576\n",
      "936  Overweight (BMI 25.0-29.9)         1087\n",
      "937  Overweight (BMI 25.0-29.9)           11\n",
      "945  Overweight (BMI 25.0-29.9)         1335\n",
      "946  Overweight (BMI 25.0-29.9)          367\n",
      "947  Overweight (BMI 25.0-29.9)          384\n",
      "955  Overweight (BMI 25.0-29.9)          406\n",
      "956  Overweight (BMI 25.0-29.9)          811\n",
      "958  Overweight (BMI 25.0-29.9)            3\n",
      "964  Overweight (BMI 25.0-29.9)         1633\n",
      "965  Overweight (BMI 25.0-29.9)         3016\n",
      "966  Overweight (BMI 25.0-29.9)          167\n",
      "976  Overweight (BMI 25.0-29.9)         2624\n",
      "977  Overweight (BMI 25.0-29.9)           16\n",
      "982  Overweight (BMI 25.0-29.9)          919\n",
      "984  Overweight (BMI 25.0-29.9)           56\n",
      "Response       Overweight (BMI 25.0-29.9)Overweight (BMI 25.0...\n",
      "Sample_Size                                                17593\n",
      "dtype: object\n",
      "                    Response  Sample_Size\n",
      "886  Obese (BMI 30.0 - 99.8)          269\n",
      "888  Obese (BMI 30.0 - 99.8)         2474\n",
      "889  Obese (BMI 30.0 - 99.8)           17\n",
      "890  Obese (BMI 30.0 - 99.8)         2965\n",
      "908  Obese (BMI 30.0 - 99.8)            3\n",
      "909  Obese (BMI 30.0 - 99.8)          352\n",
      "912  Obese (BMI 30.0 - 99.8)          127\n",
      "918  Obese (BMI 30.0 - 99.8)           54\n",
      "920  Obese (BMI 30.0 - 99.8)          197\n",
      "921  Obese (BMI 30.0 - 99.8)          442\n",
      "926  Obese (BMI 30.0 - 99.8)            9\n",
      "927  Obese (BMI 30.0 - 99.8)         1004\n",
      "934  Obese (BMI 30.0 - 99.8)         1143\n",
      "935  Obese (BMI 30.0 - 99.8)          623\n",
      "943  Obese (BMI 30.0 - 99.8)           65\n",
      "949  Obese (BMI 30.0 - 99.8)          893\n",
      "952  Obese (BMI 30.0 - 99.8)         1342\n",
      "957  Obese (BMI 30.0 - 99.8)          382\n",
      "962  Obese (BMI 30.0 - 99.8)           30\n",
      "963  Obese (BMI 30.0 - 99.8)          497\n",
      "969  Obese (BMI 30.0 - 99.8)          958\n",
      "973  Obese (BMI 30.0 - 99.8)         1623\n",
      "975  Obese (BMI 30.0 - 99.8)          866\n",
      "980  Obese (BMI 30.0 - 99.8)          301\n",
      "987  Obese (BMI 30.0 - 99.8)          313\n",
      "988  Obese (BMI 30.0 - 99.8)          408\n",
      "Response       Obese (BMI 30.0 - 99.8)Obese (BMI 30.0 - 99.8)...\n",
      "Sample_Size                                                17357\n",
      "dtype: object\n"
     ]
    }
   ],
   "source": [
    "#First upload CSV file into Jupyter Notebook directory\n",
    "\n",
    "#Pulls csv from Jupyter Notebook directory\n",
    "dataset = pd.read_csv(\"BRFSS__Table_of_Overweight_and_Obesity__BMI_.csv\")\n",
    "\n",
    "#Deletes rows dealing with data other than year 2020\n",
    "dataset = dataset[dataset.Year != 2011]\n",
    "dataset = dataset[dataset.Year != 2012]\n",
    "dataset = dataset[dataset.Year != 2013]\n",
    "dataset = dataset[dataset.Year != 2014]\n",
    "dataset = dataset[dataset.Year != 2015]\n",
    "dataset = dataset[dataset.Year != 2016]\n",
    "dataset = dataset[dataset.Year != 2017]\n",
    "dataset = dataset[dataset.Year != 2018]\n",
    "dataset = dataset[dataset.Year != 2019]\n",
    "\n",
    "#Deletes unused columns \n",
    "dataset = dataset.drop(['Year', 'Locationabbr','Locationdesc', 'Class', 'Topic', 'Question', 'Break_Out', 'Break_Out_Category', 'Data_Value_Footnote', 'DataSource', 'ClassId', 'TopicId', 'LocationID', 'BreakoutID', 'BreakOutCategoryID', 'QuestionID', 'ResponseID', 'GeoLocation', 'Data_value_unit', 'Data_value_type', 'Data_Value_Footnote_Symbol', 'Confidence_limit_Low', 'Confidence_limit_High', 'Display_order', 'Data_value'], axis=1)\n",
    "\n",
    "#solves comma issue and isolates underweight variable.  Sorted so we could calculate the total number of people classified in that category.\n",
    "dataset = dataset.replace(',','', regex=True)\n",
    "dataset[\"Sample_Size\"] = pd.to_numeric(dataset[\"Sample_Size\"])\n",
    "subset_ds1 = dataset[dataset[\"Response\"] == 'Underweight (BMI 12.0-18.4)']\n",
    "column_sum1 = subset_ds1.sum()\n",
    "\n",
    "print(subset_ds1)\n",
    "print(column_sum1)\n",
    "\n",
    "#solves comma issue and isolates Normalweight variable.  Sorted so we could calculate the total number of people classified in that category.\n",
    "dataset = dataset.replace(',','', regex=True)\n",
    "dataset[\"Sample_Size\"] = pd.to_numeric(dataset[\"Sample_Size\"])\n",
    "subset_ds2 = dataset[dataset[\"Response\"] == 'Normal Weight (BMI 18.5-24.9)']\n",
    "column_sum2 = subset_ds2.sum()\n",
    "\n",
    "print(subset_ds2)\n",
    "print(column_sum2)\n",
    "\n",
    "#solves comma issue and isolates overweight variable.  Sorted so we could calculate the total number of people classified in that category.\n",
    "dataset = dataset.replace(',','', regex=True)\n",
    "dataset[\"Sample_Size\"] = pd.to_numeric(dataset[\"Sample_Size\"])\n",
    "subset_ds3 = dataset[dataset[\"Response\"] == 'Overweight (BMI 25.0-29.9)']\n",
    "column_sum3 = subset_ds3.sum()\n",
    "\n",
    "print(subset_ds3)\n",
    "print(column_sum3)\n",
    "\n",
    "#solves comma issue and isolates obese variable. Sorted so we could calculate the total number of people classified in that category. \n",
    "dataset = dataset.replace(',','', regex=True)\n",
    "dataset[\"Sample_Size\"] = pd.to_numeric(dataset[\"Sample_Size\"])\n",
    "subset_ds4 = dataset[dataset[\"Response\"] == 'Obese (BMI 30.0 - 99.8)']\n",
    "column_sum4 = subset_ds4.sum()\n",
    "\n",
    "print(subset_ds4)\n",
    "print(column_sum4)\n",
    "\n"
   ]
  },
  {
   "cell_type": "code",
   "execution_count": 156,
   "id": "ef432eaa-8955-40cb-87b9-a90567fc4105",
   "metadata": {},
   "outputs": [
    {
     "name": "stdout",
     "output_type": "stream",
     "text": [
      "3.048450085428362\n"
     ]
    }
   ],
   "source": [
    "#1,2,3,4 represent weight scale for calculation\n",
    "under_weight = (761* 1)\n",
    "normal_weight= (13453*2)\n",
    "over_weight= (17593*3)\n",
    "obese = (17357*4)\n",
    "\n",
    "# Calculation for average BMI of all people measured\n",
    "People = 17357 + 17593 + 13453 + 761\n",
    "Total = under_weight + normal_weight + over_weight + obese\n",
    "BMI = Total/ People\n",
    "print(BMI)\n",
    "    "
   ]
  },
  {
   "cell_type": "code",
   "execution_count": null,
   "id": "4000c10f-bd0c-4b89-b0b5-619bcd88f910",
   "metadata": {},
   "outputs": [],
   "source": []
  }
 ],
 "metadata": {
  "environment": {
   "kernel": "python3",
   "name": "common-cpu.m82",
   "type": "gcloud",
   "uri": "gcr.io/deeplearning-platform-release/base-cpu:m82"
  },
  "kernelspec": {
   "display_name": "Python 3",
   "language": "python",
   "name": "python3"
  },
  "language_info": {
   "codemirror_mode": {
    "name": "ipython",
    "version": 3
   },
   "file_extension": ".py",
   "mimetype": "text/x-python",
   "name": "python",
   "nbconvert_exporter": "python",
   "pygments_lexer": "ipython3",
   "version": "3.7.10"
  }
 },
 "nbformat": 4,
 "nbformat_minor": 5
}
